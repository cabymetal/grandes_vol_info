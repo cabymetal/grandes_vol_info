{
  "nbformat": 4,
  "nbformat_minor": 5,
  "metadata": {
    "kernelspec": {
      "display_name": "PySpark",
      "language": "",
      "name": "pysparkkernel"
    },
    "language_info": {
      "codemirror_mode": {
        "name": "python",
        "version": 3
      },
      "mimetype": "text/x-python",
      "name": "pyspark",
      "pygments_lexer": "python3"
    },
    "colab": {
      "name": "sistemarecomendacion_pyspark.ipynb",
      "provenance": [],
      "collapsed_sections": []
    }
  },
  "cells": [
    {
      "cell_type": "markdown",
      "metadata": {
        "id": "BU2Ox_CL0_Bd"
      },
      "source": [
        "#Sistema de recomendación basado en filtros colaborativos\n",
        "\n",
        "Estudiantes:\n",
        "- Carlos Alberto Murillo, cmurill5@eafit.edu.co\n",
        "- Luz Stella Flórez, lflorezs@eafit.edu.co\n",
        "- Cindy Paola Guerra cpguerram@eafit.edu.co\n",
        "- Diana Carolina Benjumea, dcbenjumeh@eafit.edu.co \n",
        "\n",
        "Minería de datos para grandes volúmenes de información.\n",
        "\n",
        "\n"
      ],
      "id": "BU2Ox_CL0_Bd"
    },
    {
      "cell_type": "markdown",
      "metadata": {
        "id": "VNtko8F8RVvT"
      },
      "source": [
        "Comenzamos instalando la libreria de pyspark (requerida para trabajar en colab)"
      ],
      "id": "VNtko8F8RVvT"
    },
    {
      "cell_type": "code",
      "metadata": {
        "id": "PChT-mPW0T6s",
        "colab": {
          "base_uri": "https://localhost:8080/"
        },
        "outputId": "8e40da6c-dcb0-40b1-a326-f6c015d82f86"
      },
      "source": [
        "!pip install pyspark"
      ],
      "id": "PChT-mPW0T6s",
      "execution_count": null,
      "outputs": [
        {
          "output_type": "stream",
          "text": [
            "Requirement already satisfied: pyspark in /usr/local/lib/python3.7/dist-packages (3.1.2)\n",
            "Requirement already satisfied: py4j==0.10.9 in /usr/local/lib/python3.7/dist-packages (from pyspark) (0.10.9)\n"
          ],
          "name": "stdout"
        }
      ]
    },
    {
      "cell_type": "markdown",
      "metadata": {
        "id": "pD2vJ_HYRdQ2"
      },
      "source": [
        "Creamos la sesión de spark, tambien requerida para trabajar en colab. En EMR estos pasos no fueron necesarios."
      ],
      "id": "pD2vJ_HYRdQ2"
    },
    {
      "cell_type": "code",
      "metadata": {
        "id": "IpQkgNLUzwV-"
      },
      "source": [
        "#Correr estas lineas en Colab, no en EMR\n",
        "#import SparkSession\n",
        "from pyspark.sql import SparkSession\n",
        "# en el cluster EMR no hay necesidad de hacer esto, ya viene con AWS EMR / Notebooks"
      ],
      "id": "IpQkgNLUzwV-",
      "execution_count": null,
      "outputs": []
    },
    {
      "cell_type": "code",
      "metadata": {
        "id": "nvrBshQH0GIV"
      },
      "source": [
        "#Correr estas lineas en Colab, no en EMR\n",
        "#create spark session object\n",
        "spark=SparkSession.builder.appName('Recommendations').getOrCreate()\n",
        "# en el cluster EMR no hay necesidad de hacer esto, ya viene con AWS EMR / Notebooks"
      ],
      "id": "nvrBshQH0GIV",
      "execution_count": null,
      "outputs": []
    },
    {
      "cell_type": "markdown",
      "metadata": {
        "id": "NU6Qif31Rnps"
      },
      "source": [
        "Importamos las librerias necesarias para trabajar el sistema de recomendación."
      ],
      "id": "NU6Qif31Rnps"
    },
    {
      "cell_type": "code",
      "metadata": {
        "id": "fbf25eba"
      },
      "source": [
        "from pyspark.ml.evaluation import RegressionEvaluator\n",
        "from pyspark.ml.recommendation import ALS\n",
        "from pyspark.ml.tuning import ParamGridBuilder, CrossValidator\n",
        "\n",
        "from pyspark.sql import Row\n",
        "from pyspark.sql.types import DoubleType\n",
        "from pyspark.sql.functions import substring"
      ],
      "id": "fbf25eba",
      "execution_count": null,
      "outputs": []
    },
    {
      "cell_type": "markdown",
      "metadata": {
        "id": "WNoTEiGK2jsE"
      },
      "source": [
        "A continuación vamos a leer los datos de entrenamiento. En este ejercicio usaremos datos con calificaciones explícitas de productos. El dataset fue tomado de los datos de ejemplo proporcionados por AWS. Del conjunto de datos, se tomó el subconjunto de datos en español. Se tomaron los campos: id del usuario (reviewer_id), el id del producto (product_id) y la calificación (stars)."
      ],
      "id": "WNoTEiGK2jsE"
    },
    {
      "cell_type": "code",
      "metadata": {
        "id": "f9ca89a2",
        "colab": {
          "base_uri": "https://localhost:8080/"
        },
        "outputId": "173bc0ac-a83a-4474-b4c8-0f58c19e4cd7"
      },
      "source": [
        "#Leer en EMR \n",
        "#data = spark.read.json('s3://bigdatamining/train/dataset_es_train.json').rdd\n",
        "\n",
        "#Leer en colab\n",
        "dataTrain = spark.read.json('/content/dataset_es_train.json').rdd\n",
        "\n",
        "#Vamos a trabajar con los campos: product_id, reviewer_id, stars\n",
        "linesTrain = dataTrain.map(lambda x: Row(product_id=x[2],reviewer_id=x[6],stars=x[7]))\n",
        "\n",
        "#Creamos el dataframe de spark con los ratings para entrenamiento\n",
        "ratingsTrain = spark.createDataFrame(linesTrain)\n",
        "\n",
        "#Actualmente, esta API solo admite números enteros para los ID de usuario y artículo. Por lo cual las convertimos a Double.\n",
        "ratingsTrain = ratingsTrain.withColumn(\"product_id\", substring(ratingsTrain.product_id,12,7).cast(DoubleType()))\n",
        "ratingsTrain = ratingsTrain.withColumn(\"reviewer_id\", substring(ratingsTrain.reviewer_id,13,7).cast(DoubleType()))\n",
        "ratingsTrain = ratingsTrain.withColumn(\"stars\", ratingsTrain.stars.cast(DoubleType()))\n",
        "ratingsTrain.show()"
      ],
      "id": "f9ca89a2",
      "execution_count": null,
      "outputs": [
        {
          "output_type": "stream",
          "text": [
            "+----------+-----------+-----+\n",
            "|product_id|reviewer_id|stars|\n",
            "+----------+-----------+-----+\n",
            "|  296024.0|   999081.0|  1.0|\n",
            "|  922286.0|   216771.0|  1.0|\n",
            "|  474543.0|   929213.0|  1.0|\n",
            "|  656090.0|   224702.0|  1.0|\n",
            "|  662544.0|   224827.0|  1.0|\n",
            "|  103315.0|   304973.0|  1.0|\n",
            "|  880915.0|   642702.0|  1.0|\n",
            "|  814677.0|   895784.0|  1.0|\n",
            "|  654228.0|   789283.0|  1.0|\n",
            "|  877793.0|   986278.0|  1.0|\n",
            "|  117076.0|   351011.0|  1.0|\n",
            "|  843382.0|   783082.0|  1.0|\n",
            "|  282369.0|   178971.0|  1.0|\n",
            "|  809544.0|   751317.0|  1.0|\n",
            "|  727558.0|   483701.0|  1.0|\n",
            "|  515803.0|   484405.0|  1.0|\n",
            "|   21385.0|   939700.0|  1.0|\n",
            "|  477265.0|   488546.0|  1.0|\n",
            "|  176350.0|   651511.0|  1.0|\n",
            "|  362329.0|   419830.0|  1.0|\n",
            "+----------+-----------+-----+\n",
            "only showing top 20 rows\n",
            "\n"
          ],
          "name": "stdout"
        }
      ]
    },
    {
      "cell_type": "code",
      "metadata": {
        "colab": {
          "base_uri": "https://localhost:8080/"
        },
        "id": "KDzo3jFI507K",
        "outputId": "031f9cf4-70fe-4aa6-b962-e57a40deac9a"
      },
      "source": [
        "#Vemos un ejemplo de como eran los valores antes de la transformación\n",
        "linesTrain.take(5)"
      ],
      "id": "KDzo3jFI507K",
      "execution_count": null,
      "outputs": [
        {
          "output_type": "execute_result",
          "data": {
            "text/plain": [
              "[Row(product_id='product_es_0296024', reviewer_id='reviewer_es_0999081', stars='1'),\n",
              " Row(product_id='product_es_0922286', reviewer_id='reviewer_es_0216771', stars='1'),\n",
              " Row(product_id='product_es_0474543', reviewer_id='reviewer_es_0929213', stars='1'),\n",
              " Row(product_id='product_es_0656090', reviewer_id='reviewer_es_0224702', stars='1'),\n",
              " Row(product_id='product_es_0662544', reviewer_id='reviewer_es_0224827', stars='1')]"
            ]
          },
          "metadata": {
            "tags": []
          },
          "execution_count": 20
        }
      ]
    },
    {
      "cell_type": "markdown",
      "metadata": {
        "id": "2ahp4ZW522BC"
      },
      "source": [
        "A continuación vamos a leer los datos de test."
      ],
      "id": "2ahp4ZW522BC"
    },
    {
      "cell_type": "code",
      "metadata": {
        "id": "0f4099c6",
        "colab": {
          "base_uri": "https://localhost:8080/"
        },
        "outputId": "b47de264-dcf2-4429-dae6-e4f9aa1d23de"
      },
      "source": [
        "#EMR \n",
        "#dataTest = spark.read.json('s3://bigdatamining/test/dataset_es_test.json').rdd\n",
        "\n",
        "#Leer en colab\n",
        "dataTest = spark.read.json('/content/dataset_es_test.json').rdd\n",
        "\n",
        "#Vamos a trabajar con los campos: product_id, reviewer_id, stars\n",
        "linesTest = dataTest.map(lambda x: Row(product_id=x[2],reviewer_id=x[6],stars=x[7]))\n",
        "#linesTest.take(5)\n",
        "ratingsTest = spark.createDataFrame(linesTest)\n",
        "\n",
        "#Convertimos los campos a tipo Double\n",
        "ratingsTest = ratingsTest.withColumn(\"product_id\", substring(ratingsTest.product_id,12,7).cast(DoubleType()))\n",
        "ratingsTest = ratingsTest.withColumn(\"reviewer_id\", substring(ratingsTest.reviewer_id,13,7).cast(DoubleType()))\n",
        "ratingsTest = ratingsTest.withColumn(\"stars\", ratingsTest.stars.cast(DoubleType()))\n",
        "ratingsTest.show()"
      ],
      "id": "0f4099c6",
      "execution_count": null,
      "outputs": [
        {
          "output_type": "stream",
          "text": [
            "+----------+-----------+-----+\n",
            "|product_id|reviewer_id|stars|\n",
            "+----------+-----------+-----+\n",
            "|  113523.0|   580071.0|  1.0|\n",
            "|   17036.0|   819733.0|  1.0|\n",
            "|  138642.0|   508607.0|  1.0|\n",
            "|  170887.0|   491157.0|  1.0|\n",
            "|  710642.0|     8745.0|  1.0|\n",
            "|  813312.0|   789216.0|  1.0|\n",
            "|  260888.0|    22974.0|  1.0|\n",
            "|  234796.0|   942055.0|  1.0|\n",
            "|  690174.0|   969485.0|  1.0|\n",
            "|  624641.0|   681717.0|  1.0|\n",
            "|  634067.0|   886390.0|  1.0|\n",
            "|  261612.0|   126506.0|  1.0|\n",
            "|  531679.0|    84313.0|  1.0|\n",
            "|   92573.0|   202839.0|  1.0|\n",
            "|  590815.0|   204210.0|  1.0|\n",
            "|  689661.0|   200434.0|  1.0|\n",
            "|  171608.0|   636421.0|  1.0|\n",
            "|  702463.0|   755775.0|  1.0|\n",
            "|  984483.0|   867803.0|  1.0|\n",
            "|  186852.0|   958628.0|  1.0|\n",
            "+----------+-----------+-----+\n",
            "only showing top 20 rows\n",
            "\n"
          ],
          "name": "stdout"
        }
      ]
    },
    {
      "cell_type": "markdown",
      "metadata": {
        "id": "9E_JMRKdV8BJ"
      },
      "source": [
        "\n",
        "\n",
        "## Construcción del modelo"
      ],
      "id": "9E_JMRKdV8BJ"
    },
    {
      "cell_type": "code",
      "metadata": {
        "id": "pCAgXSdrPhuP"
      },
      "source": [
        "# Instanciamos el modelo de recomendación usando ALS\n",
        "# En este caso usaremos la estrategia de cold start: 'drop' para asegurarnos que no obtenemos valores métricas de evaluación con NaN\n",
        "# Dejamos el parámetro de máximas iteraciones por defecto (10)\n",
        "\n",
        "als = ALS(\n",
        "         userCol=\"reviewer_id\", \n",
        "         itemCol=\"product_id\",\n",
        "         ratingCol=\"stars\", \n",
        "         nonnegative = True, \n",
        "         implicitPrefs = False,\n",
        "         coldStartStrategy=\"drop\"\n",
        ")\n"
      ],
      "id": "pCAgXSdrPhuP",
      "execution_count": null,
      "outputs": []
    },
    {
      "cell_type": "markdown",
      "metadata": {
        "id": "Fk2Z4EFSRKIt"
      },
      "source": [
        "Ajustamos los hiperparámetros. Usamos un grid con 4 parámetros para rank y 4 parámetros para regParam.\n",
        "\n",
        "rank: Número de factores latentes en el modelo.\n",
        "\n",
        "regParam: Parámetro de regularización."
      ],
      "id": "Fk2Z4EFSRKIt"
    },
    {
      "cell_type": "code",
      "metadata": {
        "id": "PIkEufGoQBpH"
      },
      "source": [
        "# Añadimos los hiperparámetros y sus valores.\n",
        "param_grid = ParamGridBuilder() \\\n",
        "            .addGrid(als.rank, [10, 50, 100, 150]) \\\n",
        "            .addGrid(als.regParam, [.01, .05, .1, .15]) \\\n",
        "            .build()"
      ],
      "id": "PIkEufGoQBpH",
      "execution_count": null,
      "outputs": []
    },
    {
      "cell_type": "code",
      "metadata": {
        "id": "992a54df",
        "colab": {
          "base_uri": "https://localhost:8080/"
        },
        "outputId": "b2c26290-49ec-4b1b-dd17-b1eda14f2b89"
      },
      "source": [
        "# Definimos la métrica: RMSE\n",
        "evaluator = RegressionEvaluator(\n",
        "           metricName=\"rmse\", \n",
        "           labelCol=\"stars\", \n",
        "           predictionCol=\"prediction\") \n",
        "print (\"Número de modelos a probar: \", len(param_grid))"
      ],
      "id": "992a54df",
      "execution_count": null,
      "outputs": [
        {
          "output_type": "stream",
          "text": [
            "Número de modelos a probar:  16\n"
          ],
          "name": "stdout"
        }
      ]
    },
    {
      "cell_type": "code",
      "metadata": {
        "id": "TMLcD4tbQG8L"
      },
      "source": [
        "# Contruimos validación cruzada usando CrossValidator, le pasamos el modelo, los hiperparámetros y k-folds en 5 param_grid\n",
        "# generar 5 pares de datasets (training y test).\n",
        "cv = CrossValidator(estimator=als, estimatorParamMaps=param_grid, evaluator=evaluator, numFolds=5)"
      ],
      "id": "TMLcD4tbQG8L",
      "execution_count": null,
      "outputs": []
    },
    {
      "cell_type": "code",
      "metadata": {
        "id": "PyYxYFApQQDr"
      },
      "source": [
        "# Entrenamos el CrossValidator con el dataset de entrenamiento\n",
        "model = cv.fit(ratingsTrain)\n",
        "\n",
        "# Extraemos el mejor modelo del modelo cv entrenado.\n",
        "best_model = model.bestModel"
      ],
      "id": "PyYxYFApQQDr",
      "execution_count": null,
      "outputs": []
    },
    {
      "cell_type": "code",
      "metadata": {
        "colab": {
          "base_uri": "https://localhost:8080/"
        },
        "id": "JHos_4Rgnsdp",
        "outputId": "bb1300b4-04fe-4dd6-c508-bdff28f5859f"
      },
      "source": [
        "# Ver las predicciones con el dataset de pruebas\n",
        "test_predictions = best_model.transform(ratingsTest)\n",
        "\n",
        "# Evaluamos el modelo, calculando el RMSE con los datos de prueba.\n",
        "RMSE = evaluator.evaluate(test_predictions)\n",
        "print(\"Root-mean-square error = \" + str(RMSE))"
      ],
      "id": "JHos_4Rgnsdp",
      "execution_count": null,
      "outputs": [
        {
          "output_type": "stream",
          "text": [
            "Root-mean-square error = 2.516386386403228\n"
          ],
          "name": "stdout"
        }
      ]
    },
    {
      "cell_type": "code",
      "metadata": {
        "id": "RyG02bXcQUGE",
        "colab": {
          "base_uri": "https://localhost:8080/"
        },
        "outputId": "6e1b84fc-8736-470d-8ae9-01bcd6ecc246"
      },
      "source": [
        "print(\"**Mejor modelo**\")\n",
        "# Print \"Rank\"\n",
        "print(\"  Rank:\", best_model._java_obj.parent().getRank())\n",
        "# Print \"MaxIter\"\n",
        "print(\"  MaxIter:\", best_model._java_obj.parent().getMaxIter())\n",
        "# Print \"RegParam\"\n",
        "print(\"  RegParam:\", best_model._java_obj.parent().getRegParam())"
      ],
      "id": "RyG02bXcQUGE",
      "execution_count": null,
      "outputs": [
        {
          "output_type": "stream",
          "text": [
            "**Mejor modelo**\n",
            "  Rank: 150\n",
            "  MaxIter: 10\n",
            "  RegParam: 0.01\n"
          ],
          "name": "stdout"
        }
      ]
    },
    {
      "cell_type": "code",
      "metadata": {
        "id": "6e7df2fe",
        "colab": {
          "base_uri": "https://localhost:8080/"
        },
        "outputId": "846fda58-2029-4140-e538-f7149861e7f6"
      },
      "source": [
        "# Generar el top 10  de productos recomendados para cada usuario\n",
        "userRecs = best_model.recommendForAllUsers(10)\n",
        "userRecs.show()"
      ],
      "id": "6e7df2fe",
      "execution_count": null,
      "outputs": [
        {
          "output_type": "stream",
          "text": [
            "+-----------+--------------------+\n",
            "|reviewer_id|     recommendations|\n",
            "+-----------+--------------------+\n",
            "|        463|[{155442, 4.99667...|\n",
            "|       1238|[{322897, 3.99819...|\n",
            "|       1342|[{15558, 1.700781...|\n",
            "|       1959|[{422514, 3.99889...|\n",
            "|       3918|[{241043, 3.99812...|\n",
            "|       4519|[{776501, 2.99792...|\n",
            "|       5518|[{715343, 3.58598...|\n",
            "|       6620|[{474973, 2.99851...|\n",
            "|       8389|[{545077, 0.99945...|\n",
            "|       8638|[{27843, 5.000258...|\n",
            "|       9465|[{927201, 3.34005...|\n",
            "|      10623|[{64558, 1.269477...|\n",
            "|      11033|[{290542, 2.99928...|\n",
            "|      11317|[{858027, 4.99806...|\n",
            "|      11748|[{737657, 4.99847...|\n",
            "|      13289|[{938015, 3.53443...|\n",
            "|      16861|[{272496, 4.99836...|\n",
            "|      17753|[{965294, 3.99831...|\n",
            "|      18866|[{364762, 3.72670...|\n",
            "|      18911|[{767696, 3.75073...|\n",
            "+-----------+--------------------+\n",
            "only showing top 20 rows\n",
            "\n"
          ],
          "name": "stdout"
        }
      ]
    },
    {
      "cell_type": "code",
      "metadata": {
        "id": "6da0ac30",
        "colab": {
          "base_uri": "https://localhost:8080/"
        },
        "outputId": "cee10d02-18b7-4947-deec-44334ec6dc58"
      },
      "source": [
        "# Generar el top 10 de recomendación de usuarios para cada producto.\n",
        "prodRecs = best_model.recommendForAllItems(10)\n",
        "prodRecs.show()"
      ],
      "id": "6da0ac30",
      "execution_count": null,
      "outputs": [
        {
          "output_type": "stream",
          "text": [
            "+----------+--------------------+\n",
            "|product_id|     recommendations|\n",
            "+----------+--------------------+\n",
            "|       833|[{185613, 2.99766...|\n",
            "|      1580|[{777168, 2.99717...|\n",
            "|      1645|[{272263, 5.01140...|\n",
            "|      4519|[{963832, 3.99825...|\n",
            "|      5156|[{164445, 2.99780...|\n",
            "|      5300|[{430195, 1.99643...|\n",
            "|      6336|[{174866, 4.99850...|\n",
            "|      6658|[{868435, 2.99787...|\n",
            "|      7754|[{578152, 4.99867...|\n",
            "|      7880|[{660435, 4.99891...|\n",
            "|      7993|[{351444, 1.99699...|\n",
            "|      8592|[{708007, 2.02348...|\n",
            "|      9376|[{52622, 3.969951...|\n",
            "|     11858|[{901045, 1.99728...|\n",
            "|     12027|[{267101, 1.99686...|\n",
            "|     16339|[{161835, 4.99871...|\n",
            "|     16503|[{763890, 2.99751...|\n",
            "|     18051|[{50288, 0.993770...|\n",
            "|     19079|[{190397, 1.99801...|\n",
            "|     19204|[{336738, 3.01551...|\n",
            "+----------+--------------------+\n",
            "only showing top 20 rows\n",
            "\n"
          ],
          "name": "stdout"
        }
      ]
    },
    {
      "cell_type": "markdown",
      "metadata": {
        "id": "0fjWAWxHN0vZ"
      },
      "source": [
        "##Referencias\n",
        "\n",
        "- https://spark.apache.org/docs/2.2.0/ml-collaborative-filtering.html\n",
        "\n",
        "- https://towardsdatascience.com/build-recommendation-system-with-pyspark-using-alternating-least-squares-als-matrix-factorisation-ebe1ad2e7679"
      ],
      "id": "0fjWAWxHN0vZ"
    }
  ]
}